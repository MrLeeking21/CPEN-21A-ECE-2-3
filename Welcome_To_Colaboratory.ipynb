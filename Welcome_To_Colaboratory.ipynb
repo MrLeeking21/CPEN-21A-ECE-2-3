{
  "cells": [
    {
      "cell_type": "markdown",
      "metadata": {
        "id": "view-in-github",
        "colab_type": "text"
      },
      "source": [
        "<a href=\"https://colab.research.google.com/github/MrLeeking21/CPEN-21A-ECE-2-3/blob/main/Welcome_To_Colaboratory.ipynb\" target=\"_parent\"><img src=\"https://colab.research.google.com/assets/colab-badge.svg\" alt=\"Open In Colab\"/></a>"
      ]
    },
    {
      "cell_type": "markdown",
      "source": [
        "#       **Final Exam**"
      ],
      "metadata": {
        "id": "ApLYkqw-A1z-"
      }
    },
    {
      "cell_type": "markdown",
      "source": [
        "##**Problem Statement 1.**\n",
        "Create a python program that will produce an output of sum of 10 numbers less than 5 using for loop statement."
      ],
      "metadata": {
        "id": "6JprrpdUAvdn"
      }
    },
    {
      "cell_type": "code",
      "source": [
        "sum=0\n",
        "number=(-5,-4,-3,-2,-1,0,1,2,3,4)\n",
        "for x in number:\n",
        "  sum=sum+x\n",
        "print(\"Sum of 10 numbers less than 5 is:\",sum)"
      ],
      "metadata": {
        "id": "j45haQ9SBk1M",
        "outputId": "3a75d0f9-bd9d-4796-dd23-7d52b0695247",
        "colab": {
          "base_uri": "https://localhost:8080/"
        }
      },
      "execution_count": 12,
      "outputs": [
        {
          "output_type": "stream",
          "name": "stdout",
          "text": [
            "Sum of 10 numbers less than 5 is: -5\n"
          ]
        }
      ]
    },
    {
      "cell_type": "markdown",
      "source": [
        "##**Problem Statement 2.**\n",
        "Create a python program that will produce accept five numbers and determine the sum of first and last number among the five number entered using while loop"
      ],
      "metadata": {
        "id": "idmfBGNICCai"
      }
    },
    {
      "cell_type": "code",
      "source": [
        "w=int(input())\n",
        "y=w+35\n",
        "g=w+28\n",
        "h=w\n",
        "while w<y:\n",
        " print(w)\n",
        " w+=7\n",
        " \n",
        " print(\"The sum of first and last numver is\",g+h)"
      ],
      "metadata": {
        "colab": {
          "base_uri": "https://localhost:8080/"
        },
        "id": "SnwPOghpms5I",
        "outputId": "22687cab-2c13-42f0-a9ab-6288499c3906"
      },
      "execution_count": 11,
      "outputs": [
        {
          "output_type": "stream",
          "name": "stdout",
          "text": [
            "55\n",
            "55\n",
            "The sum of first and last numver is 138\n",
            "62\n",
            "The sum of first and last numver is 138\n",
            "69\n",
            "The sum of first and last numver is 138\n",
            "76\n",
            "The sum of first and last numver is 138\n",
            "83\n",
            "The sum of first and last numver is 138\n"
          ]
        }
      ]
    },
    {
      "cell_type": "markdown",
      "source": [
        "##**Problem Statement 3.**\n",
        "Create a Python program to calculate student grades. It accepts a numerical grade as input\n",
        "and it will display the character grade as output based on the given scale: (Use Nested-IF-Else statement)."
      ],
      "metadata": {
        "id": "iZH8xzJjDtRl"
      }
    },
    {
      "cell_type": "code",
      "source": [
        "grade=float(input(\"Enter your grade \"))\n",
        "if grade>=90:\n",
        "  print(\"A\")\n",
        "elif 80<=grade<90:\n",
        "  print(\"B\")\n",
        "elif 70<=grade<80:\n",
        "  print(\"C\")\n",
        "elif 60<=grade<70:\n",
        "  print(\"D\")\n",
        "else:\n",
        "  print(\"E\")"
      ],
      "metadata": {
        "colab": {
          "base_uri": "https://localhost:8080/"
        },
        "id": "qe8-AsynpNYm",
        "outputId": "a65d0d2b-12bc-4e99-d40a-f9d1d19363be"
      },
      "execution_count": 10,
      "outputs": [
        {
          "output_type": "stream",
          "name": "stdout",
          "text": [
            "Enter your grade 77\n",
            "C\n"
          ]
        }
      ]
    },
    {
      "cell_type": "code",
      "source": [
        "grade=int(input(\"Enter your grade\"))\n",
        "if grade>=90:\n",
        "  print(\"A\")\n",
        "elif 80<=grade<90:\n",
        "  print(\"B\")\n",
        "elif 70<=grade<80:\n",
        "  print(\"C\")\n",
        "elif 60<=grade<70:\n",
        "  print(\"D\")\n",
        "else:\n",
        "  print(\"E\")"
      ],
      "metadata": {
        "id": "nuWHFSbXchvx",
        "colab": {
          "base_uri": "https://localhost:8080/"
        },
        "outputId": "f07e5ab7-e1e3-4562-c7fe-b8b7625cc2e9"
      },
      "execution_count": 9,
      "outputs": [
        {
          "output_type": "stream",
          "name": "stdout",
          "text": [
            "Enter your grade90\n",
            "A\n"
          ]
        }
      ]
    }
  ],
  "metadata": {
    "colab": {
      "collapsed_sections": [],
      "name": "Welcome To Colaboratory",
      "provenance": [],
      "include_colab_link": true
    },
    "kernelspec": {
      "display_name": "Python 3",
      "name": "python3"
    }
  },
  "nbformat": 4,
  "nbformat_minor": 0
}