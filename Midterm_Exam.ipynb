{
  "nbformat": 4,
  "nbformat_minor": 0,
  "metadata": {
    "colab": {
      "name": "Midterm Exam",
      "provenance": [],
      "collapsed_sections": [],
      "include_colab_link": true
    },
    "kernelspec": {
      "display_name": "Python 3",
      "name": "python3"
    }
  },
  "cells": [
    {
      "cell_type": "markdown",
      "metadata": {
        "id": "view-in-github",
        "colab_type": "text"
      },
      "source": [
        "<a href=\"https://colab.research.google.com/github/MrLeeking21/CPEN-21A-ECE-2-3/blob/main/Midterm_Exam.ipynb\" target=\"_parent\"><img src=\"https://colab.research.google.com/assets/colab-badge.svg\" alt=\"Open In Colab\"/></a>"
      ]
    },
    {
      "cell_type": "markdown",
      "metadata": {
        "id": "zrQhqMg_zNmK"
      },
      "source": [
        "##\"Midterm Exam\""
      ]
    },
    {
      "cell_type": "markdown",
      "metadata": {
        "id": "GWAzt2x0zWOW"
      },
      "source": [
        "#####Problem Statement 1"
      ]
    },
    {
      "cell_type": "code",
      "metadata": {
        "id": "UrWtjIw6zkLW",
        "colab": {
          "base_uri": "https://localhost:8080/"
        },
        "outputId": "259b85c7-7bbc-4c5c-bf20-3cc55f28eed4"
      },
      "source": [
        "x=\"Johnlee B. Recamara\"\n",
        "print(\"Full name:\"\" \"+x)"
      ],
      "execution_count": null,
      "outputs": [
        {
          "output_type": "stream",
          "name": "stdout",
          "text": [
            "Full name: Johnlee B. Recamara\n"
          ]
        }
      ]
    },
    {
      "cell_type": "code",
      "metadata": {
        "id": "eglYcMrhzt8-",
        "colab": {
          "base_uri": "https://localhost:8080/"
        },
        "outputId": "d3bca56f-793b-45df-9395-c3dda59645cf"
      },
      "source": [
        "x=\"202016619\" \n",
        "print(\"Student number:\"\" \"+x)"
      ],
      "execution_count": null,
      "outputs": [
        {
          "output_type": "stream",
          "name": "stdout",
          "text": [
            "Student number: 202016619\n"
          ]
        }
      ]
    },
    {
      "cell_type": "code",
      "metadata": {
        "id": "VlrADIadzue6",
        "colab": {
          "base_uri": "https://localhost:8080/"
        },
        "outputId": "35a1fc0c-d8d3-4a22-e32d-5f70e81db9f3"
      },
      "source": [
        "x=\"21\"\n",
        "print(\"Age:\"\" \"+x)"
      ],
      "execution_count": null,
      "outputs": [
        {
          "output_type": "stream",
          "name": "stdout",
          "text": [
            "Age: 21\n"
          ]
        }
      ]
    },
    {
      "cell_type": "code",
      "metadata": {
        "id": "WhniZIX10hc2",
        "colab": {
          "base_uri": "https://localhost:8080/"
        },
        "outputId": "f55e9986-942b-4d0c-ef8a-754419ad223d"
      },
      "source": [
        "x=\"March 23,2000\"\n",
        "print(\"Birthday:\"\" \"+x)"
      ],
      "execution_count": null,
      "outputs": [
        {
          "output_type": "stream",
          "name": "stdout",
          "text": [
            "Birthday: March 23,2000\n"
          ]
        }
      ]
    },
    {
      "cell_type": "code",
      "metadata": {
        "id": "cxRDVqm70p1a",
        "colab": {
          "base_uri": "https://localhost:8080/"
        },
        "outputId": "a14c686a-613b-4e73-db66-cae0b73baa40"
      },
      "source": [
        "x=\"Southville Phase 1-A,Brgy.Inocencio,Trece Martires Cavite\"\n",
        "print(\"Address:\"\" \"+x)"
      ],
      "execution_count": null,
      "outputs": [
        {
          "output_type": "stream",
          "name": "stdout",
          "text": [
            "Address: Southville Phase 1-A,Brgy.Inocencio,Trece Martires Cavite\n"
          ]
        }
      ]
    },
    {
      "cell_type": "code",
      "metadata": {
        "id": "qy3KJ7Jv1Fic",
        "colab": {
          "base_uri": "https://localhost:8080/"
        },
        "outputId": "02ad0440-b3be-47b7-db64-4e27955f8973"
      },
      "source": [
        "x=\"BSECE 2-3\"\n",
        "print(\"Course:\"\" \"+x)"
      ],
      "execution_count": null,
      "outputs": [
        {
          "output_type": "stream",
          "name": "stdout",
          "text": [
            "Course: BSECE 2-3\n"
          ]
        }
      ]
    },
    {
      "cell_type": "code",
      "metadata": {
        "id": "K8YXOjj41R1-",
        "colab": {
          "base_uri": "https://localhost:8080/"
        },
        "outputId": "4aa8fc8d-2965-4668-ba51-a7001ee62ddb"
      },
      "source": [
        "x=\"82\"\n",
        "print(\"Last Sem GWA:\"\" \"+x)"
      ],
      "execution_count": null,
      "outputs": [
        {
          "output_type": "stream",
          "name": "stdout",
          "text": [
            "Last Sem GWA: 82\n"
          ]
        }
      ]
    },
    {
      "cell_type": "markdown",
      "metadata": {
        "id": "x6Szo1cOzcLL"
      },
      "source": [
        "#####Problem Statement 2"
      ]
    },
    {
      "cell_type": "code",
      "metadata": {
        "colab": {
          "base_uri": "https://localhost:8080/"
        },
        "id": "H-zE6Ryo8H-X",
        "outputId": "fee61c72-0f9a-46d3-8dc3-f9edb6a4dc67"
      },
      "source": [
        "\n",
        "n = 4\n",
        "answ = \"Y\"\n",
        "\n",
        "print(2<n and n<6)\n",
        "print(2<n or n==6)\n",
        "print(not(2<n or n==6))\n",
        "print(not(n<6))\n",
        "print(answ==\"Y\" and answ==\"y\")\n",
        "print(answ==\"Y\" and answ==\"y\")\n",
        "print(not(answ==\"y\"))\n",
        "print((2<n and n==5 + 1) or answ==\"No\")\n",
        "print((n==2 and n==7) or answ==\"Y\")\n",
        "print(n==2 and (n==7 or answ==\"Y\"))"
      ],
      "execution_count": null,
      "outputs": [
        {
          "output_type": "stream",
          "name": "stdout",
          "text": [
            "True\n",
            "True\n",
            "False\n",
            "False\n",
            "False\n",
            "False\n",
            "True\n",
            "False\n",
            "True\n",
            "False\n"
          ]
        }
      ]
    },
    {
      "cell_type": "markdown",
      "metadata": {
        "id": "O9jYQVtu8guw"
      },
      "source": [
        "#####Problem Statement 3"
      ]
    },
    {
      "cell_type": "code",
      "metadata": {
        "id": "AFqE0Bk3_X8G",
        "colab": {
          "base_uri": "https://localhost:8080/"
        },
        "outputId": "befa9f63-5232-407d-b3a8-02a9d5156dc7"
      },
      "source": [
        "x = 2\n",
        "y = -3\n",
        "w = 7\n",
        "z = -10\n",
        "\n",
        "print(x/y)\n",
        "print(w/y/x)\n",
        "print(z/y%x)\n",
        "print(x%-y*w)\n",
        "print(x%y)\n",
        "print(z%w-y/x*5+5)\n",
        "print(9-x%(2+y))\n",
        "print(z//w)\n",
        "print((2+y)**2)\n",
        "print(w/x*2)"
      ],
      "execution_count": null,
      "outputs": [
        {
          "output_type": "stream",
          "name": "stdout",
          "text": [
            "-0.6666666666666666\n",
            "-1.1666666666666667\n",
            "1.3333333333333335\n",
            "14\n",
            "-1\n",
            "16.5\n",
            "9\n",
            "-2\n",
            "1\n",
            "7.0\n"
          ]
        }
      ]
    }
  ]
}