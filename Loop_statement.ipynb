{
  "nbformat": 4,
  "nbformat_minor": 0,
  "metadata": {
    "colab": {
      "name": "Loop_statement.ipynb",
      "provenance": [],
      "authorship_tag": "ABX9TyNtwBE62oBTjRtsz853Ady0",
      "include_colab_link": true
    },
    "kernelspec": {
      "name": "python3",
      "display_name": "Python 3"
    },
    "language_info": {
      "name": "python"
    }
  },
  "cells": [
    {
      "cell_type": "markdown",
      "metadata": {
        "id": "view-in-github",
        "colab_type": "text"
      },
      "source": [
        "<a href=\"https://colab.research.google.com/github/MrLeeking21/CPEN-21A-ECE-2-3/blob/main/Loop_statement.ipynb\" target=\"_parent\"><img src=\"https://colab.research.google.com/assets/colab-badge.svg\" alt=\"Open In Colab\"/></a>"
      ]
    },
    {
      "cell_type": "code",
      "execution_count": null,
      "metadata": {
        "id": "21CCNOSJLOQq"
      },
      "outputs": [],
      "source": [
        "Application 2"
      ]
    },
    {
      "cell_type": "markdown",
      "source": [
        ""
      ],
      "metadata": {
        "id": "ZrgreLXfLrgQ"
      }
    },
    {
      "cell_type": "code",
      "source": [
        "i=4\n",
        "while i<20:\n",
        "  print(i)\n",
        "  i+=1\n",
        "else:\n",
        " print(\"i is no longer less than 20\")"
      ],
      "metadata": {
        "colab": {
          "base_uri": "https://localhost:8080/"
        },
        "id": "xOrfPLYbLu2j",
        "outputId": "79d2ef9b-eabb-4bb0-e4aa-c50b4c03f3c2"
      },
      "execution_count": null,
      "outputs": [
        {
          "output_type": "stream",
          "name": "stdout",
          "text": [
            "4\n",
            "5\n",
            "6\n",
            "7\n",
            "8\n",
            "9\n",
            "10\n",
            "11\n",
            "12\n",
            "13\n",
            "14\n",
            "15\n",
            "16\n",
            "17\n",
            "18\n",
            "19\n",
            "i is no longer less than 20\n"
          ]
        }
      ]
    }
  ]
}