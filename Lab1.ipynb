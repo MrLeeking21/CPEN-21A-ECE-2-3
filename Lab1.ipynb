{
  "nbformat": 4,
  "nbformat_minor": 0,
  "metadata": {
    "colab": {
      "name": "Lab1.ipynb",
      "provenance": [],
      "authorship_tag": "ABX9TyPNv8GebpPstGn71RYq8HE3",
      "include_colab_link": true
    },
    "kernelspec": {
      "name": "python3",
      "display_name": "Python 3"
    },
    "language_info": {
      "name": "python"
    }
  },
  "cells": [
    {
      "cell_type": "markdown",
      "metadata": {
        "id": "view-in-github",
        "colab_type": "text"
      },
      "source": [
        "<a href=\"https://colab.research.google.com/github/MrLeeking21/CPEN-21A-ECE-2-3/blob/main/Lab1.ipynb\" target=\"_parent\"><img src=\"https://colab.research.google.com/assets/colab-badge.svg\" alt=\"Open In Colab\"/></a>"
      ]
    },
    {
      "cell_type": "markdown",
      "metadata": {
        "id": "ns0ZEFWEmES3"
      },
      "source": [
        "##\"Laboratory 1\""
      ]
    },
    {
      "cell_type": "markdown",
      "metadata": {
        "id": "eaRH2afVhccE"
      },
      "source": [
        "######\"Welcome to Phyton Programming\""
      ]
    },
    {
      "cell_type": "code",
      "metadata": {
        "colab": {
          "base_uri": "https://localhost:8080/"
        },
        "id": "hWRg8ZNrkUUx",
        "outputId": "5fe177e6-c7de-40a0-95bc-cc03bf1eeb6e"
      },
      "source": [
        "x=\"JohnLee B.Recamara\"\n",
        "print(\"Name:\"\" \"+x)"
      ],
      "execution_count": null,
      "outputs": [
        {
          "output_type": "stream",
          "name": "stdout",
          "text": [
            "Name: JohnLee B.Recamara\n"
          ]
        }
      ]
    },
    {
      "cell_type": "code",
      "metadata": {
        "colab": {
          "base_uri": "https://localhost:8080/"
        },
        "id": "CEll3U9dlD4e",
        "outputId": "cc4cbcf5-434f-4d36-e25d-d0b554c7393d"
      },
      "source": [
        "x=\"Brgy.Inocencio,Trece Martires\"\n",
        "print(\"Address:\"\" \"+x)"
      ],
      "execution_count": null,
      "outputs": [
        {
          "output_type": "stream",
          "name": "stdout",
          "text": [
            "Address: Brgy.Inocencio,Trece Martires\n"
          ]
        }
      ]
    },
    {
      "cell_type": "code",
      "metadata": {
        "colab": {
          "base_uri": "https://localhost:8080/"
        },
        "id": "GxFsnkb2lPXF",
        "outputId": "95b9f2ba-022f-4cc5-a02f-2cc9f5d53cee"
      },
      "source": [
        "x=\"21\"\n",
        "print(\"Age:\"\" \"+x)"
      ],
      "execution_count": null,
      "outputs": [
        {
          "output_type": "stream",
          "name": "stdout",
          "text": [
            "Age: 21\n"
          ]
        }
      ]
    }
  ]
}