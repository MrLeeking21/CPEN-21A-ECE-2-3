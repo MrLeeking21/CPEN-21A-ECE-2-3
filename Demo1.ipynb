{
  "nbformat": 4,
  "nbformat_minor": 0,
  "metadata": {
    "colab": {
      "name": "Demo1.ipynb",
      "provenance": [],
      "include_colab_link": true
    },
    "kernelspec": {
      "name": "python3",
      "display_name": "Python 3"
    },
    "language_info": {
      "name": "python"
    }
  },
  "cells": [
    {
      "cell_type": "markdown",
      "metadata": {
        "id": "view-in-github",
        "colab_type": "text"
      },
      "source": [
        "<a href=\"https://colab.research.google.com/github/MrLeeking21/CPEN-21A-ECE-2-3/blob/main/Demo1.ipynb\" target=\"_parent\"><img src=\"https://colab.research.google.com/assets/colab-badge.svg\" alt=\"Open In Colab\"/></a>"
      ]
    },
    {
      "cell_type": "markdown",
      "metadata": {
        "id": "NaZFWM3h8Ztt"
      },
      "source": [
        "###Phyton Identation"
      ]
    },
    {
      "cell_type": "code",
      "metadata": {
        "id": "U9bujjPT2uvI",
        "colab": {
          "base_uri": "https://localhost:8080/"
        },
        "outputId": "7c65a57b-acf2-4532-cdd3-b2c38f810f7c"
      },
      "source": [
        "if 5>2:\n",
        "  print(\"Five is greater than two!\")"
      ],
      "execution_count": null,
      "outputs": [
        {
          "output_type": "stream",
          "name": "stdout",
          "text": [
            "Five is greater than two!\n"
          ]
        }
      ]
    },
    {
      "cell_type": "markdown",
      "metadata": {
        "id": "CHz34ST2FtJM"
      },
      "source": [
        "###Phyton Variable"
      ]
    },
    {
      "cell_type": "code",
      "metadata": {
        "id": "uh_VaBWNGB_U",
        "colab": {
          "base_uri": "https://localhost:8080/"
        },
        "outputId": "3c0e95c3-b61a-4f16-be93-00a8b9ba9b99"
      },
      "source": [
        "a,b,c=0,1,2\n",
        "d=\"Sally\"\n",
        "s=\"Mark\"\n",
        "A=\"Raymond\"\n",
        "print(a)\n",
        "print(b)\n",
        "print(c)\n",
        "print(d)\n",
        "print(s)\n",
        "print(A)"
      ],
      "execution_count": null,
      "outputs": [
        {
          "output_type": "stream",
          "name": "stdout",
          "text": [
            "0\n",
            "1\n",
            "2\n",
            "Sally\n",
            "Mark\n",
            "Raymond\n"
          ]
        }
      ]
    },
    {
      "cell_type": "markdown",
      "metadata": {
        "id": "YsKwpZDPJIJf"
      },
      "source": [
        "###Casting"
      ]
    },
    {
      "cell_type": "code",
      "metadata": {
        "colab": {
          "base_uri": "https://localhost:8080/"
        },
        "id": "igLHX-7VMAv_",
        "outputId": "27471744-5396-423c-990f-31c759562fc9"
      },
      "source": [
        "In [4]\n",
        "print(int(4))"
      ],
      "execution_count": null,
      "outputs": [
        {
          "output_type": "stream",
          "name": "stdout",
          "text": [
            "4\n"
          ]
        }
      ]
    },
    {
      "cell_type": "code",
      "metadata": {
        "colab": {
          "base_uri": "https://localhost:8080/"
        },
        "id": "_S7JOEEQMKLr",
        "outputId": "84a91d00-658d-4ccf-be1a-13ada8a12474"
      },
      "source": [
        "In [5]\n",
        "f=56.789\n",
        "print(type(f))"
      ],
      "execution_count": null,
      "outputs": [
        {
          "output_type": "stream",
          "name": "stdout",
          "text": [
            "<class 'float'>\n"
          ]
        }
      ]
    },
    {
      "cell_type": "code",
      "metadata": {
        "colab": {
          "base_uri": "https://localhost:8080/"
        },
        "id": "bSjDoPRpLC3c",
        "outputId": "4e3db5b6-6a9b-4e18-d44c-97af922b8ea9"
      },
      "source": [
        "x,y,z=\"one\",\"two\",\"three\"\n",
        "print(x)\n",
        "print(y)\n",
        "print(z)"
      ],
      "execution_count": null,
      "outputs": [
        {
          "output_type": "stream",
          "name": "stdout",
          "text": [
            "one\n",
            "two\n",
            "three\n"
          ]
        }
      ]
    },
    {
      "cell_type": "code",
      "metadata": {
        "colab": {
          "base_uri": "https://localhost:8080/"
        },
        "id": "JaCqz0EJMtpq",
        "outputId": "786417de-d0d1-40c2-ee33-c00ea4fcb355"
      },
      "source": [
        "\n",
        "In [9]\n",
        "x=y=z=\"four\"\n",
        "print(x)\n",
        "print(y)\n",
        "print(z)"
      ],
      "execution_count": null,
      "outputs": [
        {
          "output_type": "stream",
          "name": "stdout",
          "text": [
            "four\n",
            "four\n",
            "four\n"
          ]
        }
      ]
    },
    {
      "cell_type": "code",
      "metadata": {
        "colab": {
          "base_uri": "https://localhost:8080/"
        },
        "id": "ZiQDbT0fNcXm",
        "outputId": "c2c15c2a-e120-4d00-a6a2-45926d7887cd"
      },
      "source": [
        "x=\"enjoying\"\n",
        "print(\"Phyton Programming\"\" \"+x)"
      ],
      "execution_count": null,
      "outputs": [
        {
          "output_type": "stream",
          "name": "stdout",
          "text": [
            "Phyton Programming enjoying\n"
          ]
        }
      ]
    },
    {
      "cell_type": "markdown",
      "metadata": {
        "id": "L8IhVJU1OHuX"
      },
      "source": [
        "###Operation is Phyton"
      ]
    },
    {
      "cell_type": "code",
      "metadata": {
        "colab": {
          "base_uri": "https://localhost:8080/"
        },
        "id": "FIPq5AwQN55y",
        "outputId": "cd2f44ae-197c-410a-9b65-71312948caf0"
      },
      "source": [
        "In [17]\n",
        "k=10\n",
        "l=5\n",
        "print(k+l)"
      ],
      "execution_count": null,
      "outputs": [
        {
          "output_type": "stream",
          "name": "stdout",
          "text": [
            "15\n"
          ]
        }
      ]
    },
    {
      "cell_type": "code",
      "metadata": {
        "colab": {
          "base_uri": "https://localhost:8080/"
        },
        "id": "jKvepXaNOc48",
        "outputId": "7c543c34-869b-4db5-d0d0-4ca720132bbf"
      },
      "source": [
        "In [18]\n",
        "k+=l\n",
        "print(k)"
      ],
      "execution_count": null,
      "outputs": [
        {
          "output_type": "stream",
          "name": "stdout",
          "text": [
            "15\n"
          ]
        }
      ]
    },
    {
      "cell_type": "code",
      "metadata": {
        "colab": {
          "base_uri": "https://localhost:8080/"
        },
        "id": "jQVjOFrDOtQm",
        "outputId": "71c1690a-8d15-457c-de5b-8118116e4875"
      },
      "source": [
        "In [19]\n",
        "k>l and l==l"
      ],
      "execution_count": null,
      "outputs": [
        {
          "output_type": "execute_result",
          "data": {
            "text/plain": [
              "True"
            ]
          },
          "metadata": {},
          "execution_count": 41
        }
      ]
    },
    {
      "cell_type": "code",
      "metadata": {
        "colab": {
          "base_uri": "https://localhost:8080/"
        },
        "id": "tzjVxaEZPAgk",
        "outputId": "81bc7366-365f-4303-fb31-224b4744b59e"
      },
      "source": [
        "In [20]\n",
        "k<1 and k==k"
      ],
      "execution_count": null,
      "outputs": [
        {
          "output_type": "execute_result",
          "data": {
            "text/plain": [
              "False"
            ]
          },
          "metadata": {},
          "execution_count": 42
        }
      ]
    },
    {
      "cell_type": "code",
      "metadata": {
        "colab": {
          "base_uri": "https://localhost:8080/"
        },
        "id": "gz9t4HXlPO2v",
        "outputId": "dfa22f35-23be-4d62-c35b-b4bc430e784e"
      },
      "source": [
        "In [22]\n",
        "not (k<1 or k==k)"
      ],
      "execution_count": null,
      "outputs": [
        {
          "output_type": "execute_result",
          "data": {
            "text/plain": [
              "False"
            ]
          },
          "metadata": {},
          "execution_count": 43
        }
      ]
    },
    {
      "cell_type": "code",
      "metadata": {
        "colab": {
          "base_uri": "https://localhost:8080/"
        },
        "id": "Jf5fSgHDPid6",
        "outputId": "ae1fd96c-037e-4ad8-d284-531e17def30e"
      },
      "source": [
        "k%=5\n",
        "k"
      ],
      "execution_count": null,
      "outputs": [
        {
          "output_type": "execute_result",
          "data": {
            "text/plain": [
              "0"
            ]
          },
          "metadata": {},
          "execution_count": 44
        }
      ]
    }
  ]
}