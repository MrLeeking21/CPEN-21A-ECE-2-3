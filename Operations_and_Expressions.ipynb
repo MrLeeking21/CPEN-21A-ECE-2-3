{
  "nbformat": 4,
  "nbformat_minor": 0,
  "metadata": {
    "colab": {
      "name": "Untitled1.ipynb",
      "provenance": [],
      "include_colab_link": true
    },
    "kernelspec": {
      "name": "python3",
      "display_name": "Python 3"
    },
    "language_info": {
      "name": "python"
    }
  },
  "cells": [
    {
      "cell_type": "markdown",
      "metadata": {
        "id": "view-in-github",
        "colab_type": "text"
      },
      "source": [
        "<a href=\"https://colab.research.google.com/github/MrLeeking21/CPEN-21A-ECE-2-3/blob/main/Operations_and_Expressions.ipynb\" target=\"_parent\"><img src=\"https://colab.research.google.com/assets/colab-badge.svg\" alt=\"Open In Colab\"/></a>"
      ]
    },
    {
      "cell_type": "markdown",
      "metadata": {
        "id": "6MiK2drY3BOB"
      },
      "source": [
        "###Boomlean Operator"
      ]
    },
    {
      "cell_type": "code",
      "metadata": {
        "colab": {
          "base_uri": "https://localhost:8080/"
        },
        "id": "hSbAczRE6Bfe",
        "outputId": "d6129211-3d8b-44b3-e18c-74263b5bef1c"
      },
      "source": [
        "a = 1\n",
        "b = 2\n",
        "\n",
        "print(a>b)\n",
        "print(a<b)\n",
        "print(a==a)\n",
        "print(a!=b)"
      ],
      "execution_count": null,
      "outputs": [
        {
          "output_type": "stream",
          "name": "stdout",
          "text": [
            "False\n",
            "True\n",
            "True\n",
            "True\n"
          ]
        }
      ]
    },
    {
      "cell_type": "markdown",
      "metadata": {
        "id": "CfzX29t_6_mU"
      },
      "source": [
        "##Bool() function"
      ]
    },
    {
      "cell_type": "code",
      "metadata": {
        "colab": {
          "base_uri": "https://localhost:8080/"
        },
        "id": "adZRhii15U1h",
        "outputId": "f1f9a5cb-1c5b-458c-874c-841744dde6ac"
      },
      "source": [
        "print(bool(15))\n",
        "print(bool(True))\n",
        "print(bool(1))\n",
        "\n",
        "print(bool(False))\n",
        "print(bool(0))\n",
        "print(bool(None))\n",
        "print(bool([]))"
      ],
      "execution_count": null,
      "outputs": [
        {
          "output_type": "stream",
          "name": "stdout",
          "text": [
            "True\n",
            "True\n",
            "True\n",
            "False\n",
            "False\n",
            "False\n",
            "False\n"
          ]
        }
      ]
    },
    {
      "cell_type": "markdown",
      "metadata": {
        "id": "GGo67otG7XAM"
      },
      "source": [
        "##Functions return a Boolean"
      ]
    },
    {
      "cell_type": "code",
      "metadata": {
        "id": "z0QtU4rV7cWD",
        "colab": {
          "base_uri": "https://localhost:8080/"
        },
        "outputId": "502b3093-4e1d-4fde-e385-e5d188a5acf8"
      },
      "source": [
        "def myFunction(): return True\n",
        "\n",
        "print(myFunction())"
      ],
      "execution_count": null,
      "outputs": [
        {
          "output_type": "stream",
          "name": "stdout",
          "text": [
            "True\n"
          ]
        }
      ]
    },
    {
      "cell_type": "code",
      "metadata": {
        "id": "p8XN-dox7vOD",
        "colab": {
          "base_uri": "https://localhost:8080/"
        },
        "outputId": "8f602868-4953-4b8c-d876-9537d666300b"
      },
      "source": [
        "def myFunction(): return False\n",
        "\n",
        "if myFunction(): \n",
        "  print(\"True\")\n",
        "else:\n",
        "  print(\"False\")"
      ],
      "execution_count": null,
      "outputs": [
        {
          "output_type": "stream",
          "name": "stdout",
          "text": [
            "False\n"
          ]
        }
      ]
    },
    {
      "cell_type": "markdown",
      "metadata": {
        "id": "PmbLvJI584gf"
      },
      "source": [
        "##Relational Operator"
      ]
    },
    {
      "cell_type": "code",
      "metadata": {
        "id": "7Vx4Q3lq8-25",
        "colab": {
          "base_uri": "https://localhost:8080/"
        },
        "outputId": "e95f879a-92f9-4b9f-dfa5-7d9ca4f4d9d0"
      },
      "source": [
        "print(10>9)\n",
        "print(10<9)\n",
        "print()"
      ],
      "execution_count": null,
      "outputs": [
        {
          "output_type": "stream",
          "name": "stdout",
          "text": [
            "True\n",
            "False\n",
            "\n"
          ]
        }
      ]
    },
    {
      "cell_type": "markdown",
      "metadata": {
        "id": "OXNxq0Ht9RiX"
      },
      "source": [
        "##Arithmetic Operator"
      ]
    },
    {
      "cell_type": "code",
      "metadata": {
        "id": "SXah5q1T9WMj",
        "colab": {
          "base_uri": "https://localhost:8080/"
        },
        "outputId": "084ecdf2-55f0-4203-ca69-fa25d07206d5"
      },
      "source": [
        "print(10+5)\n",
        "print(10-5)\n",
        "print(10*5)\n",
        "print(10/5)\n",
        "print(10%5) #modulo division that shows a remainder after divding\n",
        "print(10//3) #floor division, 3.33 (making whole number instead of remaider)\n",
        "print(10**5) #concatenation (means how 10 is multipliied)\n"
      ],
      "execution_count": null,
      "outputs": [
        {
          "output_type": "stream",
          "name": "stdout",
          "text": [
            "15\n",
            "5\n",
            "50\n",
            "2.0\n",
            "0\n",
            "3\n",
            "100000\n"
          ]
        }
      ]
    },
    {
      "cell_type": "markdown",
      "metadata": {
        "id": "CDHiLWpE7tpk"
      },
      "source": [
        "##Bitwise Operator"
      ]
    },
    {
      "cell_type": "code",
      "metadata": {
        "id": "M4ORzl4i-ftW",
        "colab": {
          "base_uri": "https://localhost:8080/"
        },
        "outputId": "042cc1cd-a1d7-4d6f-863f-4d1e447c5e1b"
      },
      "source": [
        "a = 60 #0011 1100\n",
        "b = 13 #0000 1101\n",
        "\n",
        "print(a & b)\n",
        "print(a|b)\n",
        "print(a^b)\n",
        "\n",
        "print(a<<2)#0011 1100     0111\n",
        "print(a>>1)#0011 1110-30"
      ],
      "execution_count": null,
      "outputs": [
        {
          "output_type": "stream",
          "name": "stdout",
          "text": [
            "12\n",
            "61\n",
            "49\n",
            "240\n",
            "30\n"
          ]
        }
      ]
    },
    {
      "cell_type": "markdown",
      "metadata": {
        "id": "rNQE7vEizv5r"
      },
      "source": [
        "##Assigment Operators"
      ]
    },
    {
      "cell_type": "code",
      "metadata": {
        "id": "emYnZBiV_pi-",
        "colab": {
          "base_uri": "https://localhost:8080/"
        },
        "outputId": "c195823e-90f3-445d-d799-d187cce9cd53"
      },
      "source": [
        "a+=3 #Same as a = a + 3, a = 60 + 3, a = 63\n",
        "print(a)"
      ],
      "execution_count": null,
      "outputs": [
        {
          "output_type": "stream",
          "name": "stdout",
          "text": [
            "63\n"
          ]
        }
      ]
    },
    {
      "cell_type": "markdown",
      "metadata": {
        "id": "Vpxli9gLANdv"
      },
      "source": [
        "##Logical Operators"
      ]
    },
    {
      "cell_type": "code",
      "metadata": {
        "id": "n7JpKFVrASP2",
        "colab": {
          "base_uri": "https://localhost:8080/"
        },
        "outputId": "5e7e75c4-9162-4f68-9407-7e906676c4c6"
      },
      "source": [
        "a = True\n",
        "b = False\n",
        "\n",
        "print(a and b)\n",
        "print(a or b)\n",
        "print(not(a or b))\n",
        "\n",
        "a>b and b<a"
      ],
      "execution_count": null,
      "outputs": [
        {
          "output_type": "stream",
          "name": "stdout",
          "text": [
            "False\n",
            "True\n",
            "False\n"
          ]
        },
        {
          "output_type": "execute_result",
          "data": {
            "text/plain": [
              "True"
            ]
          },
          "metadata": {},
          "execution_count": 30
        }
      ]
    },
    {
      "cell_type": "code",
      "metadata": {
        "colab": {
          "base_uri": "https://localhost:8080/"
        },
        "id": "vVg0Qqc30nWQ",
        "outputId": "073b1190-cbae-4553-f085-d9d302456ab8"
      },
      "source": [
        "a = 60\n",
        "b = 13\n",
        "\n",
        "print(a>b and b>a)\n",
        "print(a==a or b==b)\n",
        "print(not(a==a and b==b))"
      ],
      "execution_count": null,
      "outputs": [
        {
          "output_type": "stream",
          "name": "stdout",
          "text": [
            "False\n",
            "True\n",
            "False\n"
          ]
        }
      ]
    },
    {
      "cell_type": "markdown",
      "metadata": {
        "id": "hf63xIuiA70Z"
      },
      "source": [
        "##Identity Operators"
      ]
    },
    {
      "cell_type": "code",
      "metadata": {
        "id": "eJTBU-mvBHX1",
        "colab": {
          "base_uri": "https://localhost:8080/"
        },
        "outputId": "345aa86c-6f3e-498c-ce72-53bf2b0ea88b"
      },
      "source": [
        "print(a is b)\n",
        "print(a is not b)"
      ],
      "execution_count": null,
      "outputs": [
        {
          "output_type": "stream",
          "name": "stdout",
          "text": [
            "False\n",
            "True\n"
          ]
        }
      ]
    }
  ]
}